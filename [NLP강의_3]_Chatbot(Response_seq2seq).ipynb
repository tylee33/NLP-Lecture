{
  "nbformat": 4,
  "nbformat_minor": 0,
  "metadata": {
    "colab": {
      "name": "[NLP강의-3] Chatbot(Response-seq2seq).ipynb",
      "version": "0.3.2",
      "provenance": [],
      "include_colab_link": true
    },
    "kernelspec": {
      "name": "python3",
      "display_name": "Python 3"
    }
  },
  "cells": [
    {
      "cell_type": "markdown",
      "metadata": {
        "id": "view-in-github",
        "colab_type": "text"
      },
      "source": [
        "<a href=\"https://colab.research.google.com/github/tylee33/NLP-Lecture/blob/master/%5BNLP%EA%B0%95%EC%9D%98_3%5D_Chatbot(Response_seq2seq).ipynb\" target=\"_parent\"><img src=\"https://colab.research.google.com/assets/colab-badge.svg\" alt=\"Open In Colab\"/></a>"
      ]
    },
    {
      "cell_type": "markdown",
      "metadata": {
        "id": "aEgz3Qzzmslp",
        "colab_type": "text"
      },
      "source": [
        "## Seq2Seq를 활용한 간단한 Response Generator을 만들어보자\n",
        "![이미지](http://suriyadeepan.github.io/img/seq2seq/seq2seq2.png)\n",
        "* Python 3.5, Tensorflow 1.1, Konlpy (Mecab),Word2Vec (Gensim), matplotlib (Graph)"
      ]
    },
    {
      "cell_type": "code",
      "metadata": {
        "id": "qucAfzzmmvZh",
        "colab_type": "code",
        "colab": {
          "base_uri": "https://localhost:8080/",
          "height": 71
        },
        "outputId": "1d9a7518-25ac-4a5c-d316-0a0c05b4cc28"
      },
      "source": [
        "# -*- coding: utf-8 -*-\n",
        "import tensorflow as tf\n",
        "import numpy as np\n",
        "import sys \n",
        "\n",
        "print (sys.version)\n",
        "print (tf.__version__)"
      ],
      "execution_count": 1,
      "outputs": [
        {
          "output_type": "stream",
          "text": [
            "3.6.8 (default, Jan 14 2019, 11:02:34) \n",
            "[GCC 8.0.1 20180414 (experimental) [trunk revision 259383]]\n",
            "1.14.0\n"
          ],
          "name": "stdout"
        }
      ]
    },
    {
      "cell_type": "code",
      "metadata": {
        "id": "w_m4M97_nLWy",
        "colab_type": "code",
        "colab": {
          "base_uri": "https://localhost:8080/",
          "height": 53
        },
        "outputId": "d0ef08a9-e102-4559-ede2-ef4dfff0c1c0"
      },
      "source": [
        "!pip install konlpy"
      ],
      "execution_count": 3,
      "outputs": [
        {
          "output_type": "stream",
          "text": [
            "Requirement already satisfied: konlpy in /usr/local/lib/python3.6/dist-packages (0.5.1)\n",
            "Requirement already satisfied: JPype1>=0.5.7 in /usr/local/lib/python3.6/dist-packages (from konlpy) (0.7.0)\n"
          ],
          "name": "stdout"
        }
      ]
    },
    {
      "cell_type": "markdown",
      "metadata": {
        "id": "uN331r_xm2Kq",
        "colab_type": "text"
      },
      "source": [
        "### seq2seq를 위한 Data 구성\n",
        "* 형태소 분석기를 활용하여 명사만 추출 후 완전한 문장과 비교하여 학습"
      ]
    },
    {
      "cell_type": "code",
      "metadata": {
        "id": "nU6vcb5zmz9a",
        "colab_type": "code",
        "colab": {
          "base_uri": "https://localhost:8080/",
          "height": 53
        },
        "outputId": "87a1d7bf-077b-4a36-e446-181e3a204f21"
      },
      "source": [
        "#형태소 분석\n",
        "from konlpy.tag import Twitter\n",
        " \n",
        "twitter = Twitter()\n",
        "\n",
        "text_data = [\n",
        "    '치즈 피자로 주문 되었습니다',\n",
        "    '메뉴를 선택해 주세요',\n",
        "    '음료는 무엇으로'\n",
        "]"
      ],
      "execution_count": 4,
      "outputs": [
        {
          "output_type": "stream",
          "text": [
            "/usr/local/lib/python3.6/dist-packages/konlpy/tag/_okt.py:16: UserWarning: \"Twitter\" has changed to \"Okt\" since KoNLPy v0.4.5.\n",
            "  warn('\"Twitter\" has changed to \"Okt\" since KoNLPy v0.4.5.')\n"
          ],
          "name": "stderr"
        }
      ]
    },
    {
      "cell_type": "markdown",
      "metadata": {
        "id": "ivDRpQdanaz6",
        "colab_type": "text"
      },
      "source": [
        "### 입력값의 명사를 통해 완전한 문장 생성"
      ]
    },
    {
      "cell_type": "code",
      "metadata": {
        "id": "bcJOF9D4nPgh",
        "colab_type": "code",
        "colab": {
          "base_uri": "https://localhost:8080/",
          "height": 35
        },
        "outputId": "8a5fc4d0-eceb-4e15-dbfd-ee804a763e4f"
      },
      "source": [
        "input_data = [' '.join(twitter.nouns(text_data)) for text_data in text_data]\n",
        "train_data = [[x] + [y] for x,y in zip(input_data,text_data)]\n",
        "\n",
        "char_array = []\n",
        "all_char = ''\n",
        "for text in train_data:\n",
        "    all_char = all_char + ''.join(text)\n",
        "char_array = list(set(all_char)) + ['[',']','P']\n",
        "print(train_data)"
      ],
      "execution_count": 5,
      "outputs": [
        {
          "output_type": "stream",
          "text": [
            "[['치즈 피자 주문', '치즈 피자로 주문 되었습니다'], ['메뉴 선택', '메뉴를 선택해 주세요'], ['음료 무엇', '음료는 무엇으로']]\n"
          ],
          "name": "stdout"
        }
      ]
    },
    {
      "cell_type": "code",
      "metadata": {
        "id": "VM9rs13mne2h",
        "colab_type": "code",
        "colab": {
          "base_uri": "https://localhost:8080/",
          "height": 73
        },
        "outputId": "57f78e29-5ef7-4b22-a403-e5931e55ebc5"
      },
      "source": [
        "max_input_text = max(len(s[0]) for s in train_data)\n",
        "max_output_text = max(len(s[1]) for s in train_data)\n",
        "# enumerate 방법 사용 index : value 정렬\n",
        "num_dic = {n: i for i, n in enumerate(char_array)}\n",
        "\n",
        "dic_len = len(num_dic)\n",
        "\n",
        "print (\"Char List : \" + str(num_dic))\n",
        "print (\"Char Size : \" + str(dic_len))"
      ],
      "execution_count": 6,
      "outputs": [
        {
          "output_type": "stream",
          "text": [
            "Char List : {'택': 0, '피': 1, '치': 2, '를': 3, '습': 4, '음': 5, '는': 6, '주': 7, '로': 8, '으': 9, '자': 10, '문': 11, '되': 12, '무': 13, '선': 14, '해': 15, '다': 16, '엇': 17, '요': 18, '메': 19, '니': 20, '즈': 21, '세': 22, '었': 23, ' ': 24, '뉴': 25, '료': 26, '[': 27, ']': 28, 'P': 29}\n",
            "Char Size : 30\n"
          ],
          "name": "stdout"
        }
      ]
    },
    {
      "cell_type": "markdown",
      "metadata": {
        "id": "m_32Gsu6nkRS",
        "colab_type": "text"
      },
      "source": [
        "### One Hot Encodeing\n",
        "* '페파로니'의 정렬하여 1의 값으로 정렬 <br>\n",
        "페 [1, 0, 0, 0, 0, 0, 0, 0, 0, 0] <br>\n",
        "파 [0, 1, 0, 0, 0, 0, 0, 0, 0, 0] <br>\n",
        "로 [0, 0, 1, 0, 0, 0, 0, 0, 0, 0] <br>\n",
        "니 [0, 0, 0, 1, 0, 0, 0, 0, 0, 0] <br>"
      ]
    },
    {
      "cell_type": "code",
      "metadata": {
        "id": "HjolLNaRnlEx",
        "colab_type": "code",
        "colab": {}
      },
      "source": [
        "def make_train_data(train_data):\n",
        "    input_batch = []\n",
        "    output_batch = []\n",
        "    target_batch = []\n",
        "\n",
        "    for seq in train_data:\n",
        "        # 인코더 셀의 입력값. 입력단어의 글자들을 한글자씩 떼어 배열로 만든다.\n",
        "        input = [num_dic[n] for n in seq[0]+'P' * (max_input_text - len(seq[0]))]\n",
        "        # 디코더 셀의 입력값. 시작을 나타내는 [ 심볼을 맨 앞에 붙여준다.\n",
        "        output = [num_dic[n] for n in ('[' + seq[1] + 'P' * (max_output_text - len(seq[1])))]\n",
        "        # 학습을 위해 비교할 디코더 셀의 출력값. 끝나는 것을 알려주기 위해 마지막에 ] 를 붙인다.\n",
        "        target = [num_dic[n] for n in (seq[1] + 'P' * (max_output_text - len(seq[1])) + ']' )]\n",
        "        input_batch.append(np.eye(dic_len)[input])\n",
        "        output_batch.append(np.eye(dic_len)[output])\n",
        "        target_batch.append(target)\n",
        "    return input_batch, output_batch, target_batch\n",
        "#make_train_data(train_data)"
      ],
      "execution_count": 0,
      "outputs": []
    },
    {
      "cell_type": "markdown",
      "metadata": {
        "id": "zoypRqQ6nqNq",
        "colab_type": "text"
      },
      "source": [
        "### 모델 저장을 위한 함수\n",
        "* 현재폴더의 model폴더를 만들어 모델을 저장한다 \n",
        "* 모델이 존재할 경우 삭제하고 새로 만든다"
      ]
    },
    {
      "cell_type": "code",
      "metadata": {
        "id": "bR-ypjYRnrN5",
        "colab_type": "code",
        "colab": {}
      },
      "source": [
        "file_path = './model'\n",
        "def model_file(file_path, flag):\n",
        "    if(flag):\n",
        "        import os\n",
        "        saver = tf.train.Saver(tf.global_variables())\n",
        "\n",
        "        if(not os.path.exists(file_path)):\n",
        "            os.makedirs(file_path)\n",
        "        saver.save(sess, ''.join(file_path + \"/.model\"))\n",
        "        print(\"Model Saved\")\n",
        "    else:\n",
        "        import shutil\n",
        "        try:\n",
        "            shutil.rmtree(file_path)\n",
        "            print(\"Model Deleted\")\n",
        "        except OSError as e:\n",
        "            if e.errno == 2:\n",
        "                # 파일이나 디렉토리가 없음!\n",
        "                print ('No such file or directory to remove')\n",
        "                pass\n",
        "            else:\n",
        "                raise"
      ],
      "execution_count": 0,
      "outputs": []
    },
    {
      "cell_type": "markdown",
      "metadata": {
        "id": "nVnyxOu2nwEJ",
        "colab_type": "text"
      },
      "source": [
        "### Tensorflow Graph 생성\n",
        "* seq2seq모델의 Graph 생성\n",
        "* 동일한 크기의 encoder과 decoder의 크기로 학습"
      ]
    },
    {
      "cell_type": "code",
      "metadata": {
        "id": "HK32YjbWnw9q",
        "colab_type": "code",
        "colab": {
          "base_uri": "https://localhost:8080/",
          "height": 469
        },
        "outputId": "42bffe17-a35e-428c-8326-a70a2e46db9e"
      },
      "source": [
        "# 옵션 설정\n",
        "learning_rate = 0.01\n",
        "n_hidden = 128\n",
        "total_epoch = 200\n",
        "# one hot 위한 사이즈\n",
        "n_class = n_input = dic_len\n",
        "\n",
        "# 그래프 초기화 \n",
        "tf.reset_default_graph()\n",
        "# Seq2Seq 모델은 인코더의 입력과 디코더의 입력의 형식이 같다.\n",
        "enc_input = tf.placeholder(tf.float32, [None, None, n_input])\n",
        "dec_input = tf.placeholder(tf.float32, [None, None, n_input])\n",
        "targets = tf.placeholder(tf.int64, [None, None])\n",
        "\n",
        "# 인코더\n",
        "with tf.variable_scope(\"encoder\"):\n",
        "    enc_cell = tf.contrib.rnn.BasicLSTMCell(n_hidden)\n",
        "    enc_cell = tf.contrib.rnn.DropoutWrapper(enc_cell, output_keep_prob=0.5)\n",
        "    # scope.reuse_variables()\n",
        "    outputs, enc_states = tf.nn.dynamic_rnn(enc_cell, enc_input,\n",
        "                                            dtype=tf.float32)\n",
        "\n",
        "# 디코더\n",
        "with tf.variable_scope(\"decoder\"):\n",
        "    dec_cell = tf.contrib.rnn.BasicLSTMCell(n_hidden)\n",
        "    dec_cell = tf.contrib.rnn.DropoutWrapper(dec_cell, output_keep_prob=0.5)\n",
        "    # Seq2Seq 모델 구현\n",
        "    outputs, dec_states = tf.nn.dynamic_rnn(dec_cell, dec_input,\n",
        "                                            initial_state=enc_states,\n",
        "                                            dtype=tf.float32)\n",
        "\n",
        "model = tf.layers.dense(outputs, n_class, activation=None)\n",
        "\n",
        "cost = tf.reduce_mean(\n",
        "    tf.nn.sparse_softmax_cross_entropy_with_logits(\n",
        "        logits=model, labels=targets))\n",
        "\n",
        "optimizer = tf.train.AdamOptimizer(learning_rate).minimize(cost)\n",
        "\n",
        "sess = tf.Session()\n",
        "sess.run(tf.global_variables_initializer())\n",
        "input_batch, output_batch, target_batch = make_train_data(train_data)"
      ],
      "execution_count": 10,
      "outputs": [
        {
          "output_type": "stream",
          "text": [
            "WARNING: Logging before flag parsing goes to stderr.\n",
            "W0815 04:53:06.834617 140092264613760 lazy_loader.py:50] \n",
            "The TensorFlow contrib module will not be included in TensorFlow 2.0.\n",
            "For more information, please see:\n",
            "  * https://github.com/tensorflow/community/blob/master/rfcs/20180907-contrib-sunset.md\n",
            "  * https://github.com/tensorflow/addons\n",
            "  * https://github.com/tensorflow/io (for I/O related ops)\n",
            "If you depend on functionality not listed there, please file an issue.\n",
            "\n",
            "W0815 04:53:06.836857 140092264613760 deprecation.py:323] From <ipython-input-10-69b45a5a3540>:16: BasicLSTMCell.__init__ (from tensorflow.python.ops.rnn_cell_impl) is deprecated and will be removed in a future version.\n",
            "Instructions for updating:\n",
            "This class is equivalent as tf.keras.layers.LSTMCell, and will be replaced by that in Tensorflow 2.0.\n",
            "W0815 04:53:06.846665 140092264613760 deprecation.py:323] From <ipython-input-10-69b45a5a3540>:20: dynamic_rnn (from tensorflow.python.ops.rnn) is deprecated and will be removed in a future version.\n",
            "Instructions for updating:\n",
            "Please use `keras.layers.RNN(cell)`, which is equivalent to this API\n",
            "W0815 04:53:06.926852 140092264613760 deprecation.py:506] From /usr/local/lib/python3.6/dist-packages/tensorflow/python/ops/init_ops.py:1251: calling VarianceScaling.__init__ (from tensorflow.python.ops.init_ops) with dtype is deprecated and will be removed in a future version.\n",
            "Instructions for updating:\n",
            "Call initializer instance with the dtype argument instead of passing it to the constructor\n",
            "W0815 04:53:06.938434 140092264613760 deprecation.py:506] From /usr/local/lib/python3.6/dist-packages/tensorflow/python/ops/rnn_cell_impl.py:738: calling Zeros.__init__ (from tensorflow.python.ops.init_ops) with dtype is deprecated and will be removed in a future version.\n",
            "Instructions for updating:\n",
            "Call initializer instance with the dtype argument instead of passing it to the constructor\n",
            "W0815 04:53:07.651868 140092264613760 deprecation.py:323] From <ipython-input-10-69b45a5a3540>:31: dense (from tensorflow.python.layers.core) is deprecated and will be removed in a future version.\n",
            "Instructions for updating:\n",
            "Use keras.layers.dense instead.\n"
          ],
          "name": "stderr"
        }
      ]
    },
    {
      "cell_type": "markdown",
      "metadata": {
        "id": "l2lG87BUn3Qp",
        "colab_type": "text"
      },
      "source": [
        "### 학습결과 출력\n",
        "* matplotlib 활용 학습 결과 출력"
      ]
    },
    {
      "cell_type": "code",
      "metadata": {
        "id": "oxSL0i1fn4wa",
        "colab_type": "code",
        "colab": {
          "base_uri": "https://localhost:8080/",
          "height": 269
        },
        "outputId": "ae2305ed-6883-42bd-d5f9-d2e5533eef0a"
      },
      "source": [
        "import matplotlib.pyplot as plt\n",
        "\n",
        "def display_train():\n",
        "    plot_X = []\n",
        "    plot_Y = []\n",
        "    for epoch in range(total_epoch):\n",
        "        _, loss = sess.run([optimizer, cost],\n",
        "                           feed_dict={enc_input: input_batch,\n",
        "                                      dec_input: output_batch,\n",
        "                                      targets: target_batch})\n",
        "        plot_X.append(epoch + 1)\n",
        "        plot_Y.append(loss)\n",
        "    # Graphic display\n",
        "    plt.plot(plot_X, plot_Y, label='cost')\n",
        "    plt.show()\n",
        "\n",
        "display_train()"
      ],
      "execution_count": 11,
      "outputs": [
        {
          "output_type": "display_data",
          "data": {
            "image/png": "[encoded data removed]",
            "text/plain": [
              "<Figure size 432x288 with 1 Axes>"
            ]
          },
          "metadata": {
            "tags": []
          }
        }
      ]
    },
    {
      "cell_type": "markdown",
      "metadata": {
        "id": "p5lkScA-n-jq",
        "colab_type": "text"
      },
      "source": [
        "### 예측 수행"
      ]
    },
    {
      "cell_type": "code",
      "metadata": {
        "id": "4as7itXfn_Rx",
        "colab_type": "code",
        "colab": {
          "base_uri": "https://localhost:8080/",
          "height": 107
        },
        "outputId": "9f3e6239-0d3d-4783-90ea-89e64d70a908"
      },
      "source": [
        "# 최적화가 끝난 뒤, 변수를 저장합니다.\n",
        "model_file(file_path, True)\n",
        "\n",
        "# 단어를 입력받아 번역 단어를 예측하고 디코딩하는 함수\n",
        "def predict(word):\n",
        "    input_batch, output_batch, target_batch = make_train_data([word])\n",
        "    # 결과가 [batch size, time step, input] 으로 나오기 때문에,\n",
        "    # 2번째 차원인 input 차원을 argmax 로 취해 가장 확률이 높은 글자를 예측 값으로 만든다.\n",
        "    # http://pythonkim.tistory.com/73\n",
        "    prediction = tf.argmax(model, 2)\n",
        "    result = sess.run(prediction,\n",
        "                      feed_dict={enc_input: input_batch,\n",
        "                                 dec_input: output_batch,\n",
        "                                 targets: target_batch})\n",
        "    # 결과 값인 숫자의 인덱스에 해당하는 글자를 가져와 글자 배열을 만든다.\n",
        "    decoded = [char_array[i] for i in result[0]]\n",
        "    if 'P' in decoded:\n",
        "        end = decoded.index('P')\n",
        "        decoded = decoded[:end]\n",
        "    elif ']' in decoded:\n",
        "        end = decoded.index(']')\n",
        "        decoded = decoded[:end] \n",
        "    return decoded\n",
        "\n",
        "print (\"Predict : 치즈 피자 주문 -> \" + ''.join(predict(['치즈 피자 주문',''])))\n",
        "print (\"Predict : 메뉴 선택 -> \" + ''.join(predict(['메뉴 선택',''])))\n",
        "print (\"Predict : 음료 무엇 -> \" + ''.join(predict(['음료 무엇',''])))\n",
        "\n",
        "model_file(file_path, False)"
      ],
      "execution_count": 12,
      "outputs": [
        {
          "output_type": "stream",
          "text": [
            "Model Saved\n",
            "Predict : 치즈 피자 주문 -> 치즈 피자로 주문 되었습니다\n",
            "Predict : 메뉴 선택 -> 메뉴를 선택해 주세요\n",
            "Predict : 음료 무엇 -> 음료는 무엇으로\n",
            "Model Deleted\n"
          ],
          "name": "stdout"
        }
      ]
    }
  ]
}