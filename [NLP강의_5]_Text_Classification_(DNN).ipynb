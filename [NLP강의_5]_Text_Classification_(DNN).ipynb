{
  "nbformat": 4,
  "nbformat_minor": 0,
  "metadata": {
    "colab": {
      "name": "[NLP강의-5] Text Classification (DNN)",
      "version": "0.3.2",
      "provenance": [],
      "machine_shape": "hm",
      "include_colab_link": true
    },
    "kernelspec": {
      "name": "python3",
      "display_name": "Python 3"
    },
    "accelerator": "GPU"
  },
  "cells": [
    {
      "cell_type": "markdown",
      "metadata": {
        "id": "view-in-github",
        "colab_type": "text"
      },
      "source": [
        "<a href=\"https://colab.research.google.com/github/tylee33/NLP-Lecture/blob/master/%5BNLP%EA%B0%95%EC%9D%98_5%5D_Text_Classification_(DNN).ipynb\" target=\"_parent\"><img src=\"https://colab.research.google.com/assets/colab-badge.svg\" alt=\"Open In Colab\"/></a>"
      ]
    },
    {
      "cell_type": "markdown",
      "metadata": {
        "id": "3uGcDN92eOU7",
        "colab_type": "text"
      },
      "source": [
        "## Deep Neural Networks\n",
        "\n",
        "### Deep Neural Networks 아키텍처는 각 단일 레이어가 이전의 연결 만 수신하고 숨겨진 부분의 다음 레이어에만 연결을 제공하는 여러 레이어의 연결을 통해 학습하도록 설계되었습니다. 입력은 피처 공간의 연결입니다 (첫 번째 숨겨진 레이어의 Feature_extraction 섹션에서 논의한 것처럼 DNN (Deep Neural Networks)의 경우 입력 레이어는 그림의 표준 DNN에 표시된 것처럼 tf-ifd, 단어 포함 등이 될 수 있습니다. 출력 레이어에는 멀티 클래스 분류의 클래스 수와 이진 분류의 경우 하나의 뉴런 만있는 뉴런이 있지만이 백서의 주요 기여는 다른 목적을 위해 훈련 된 DNN이 많이 있다는 것입니다. 각 학습 모델이 무작위로 생성되는 곳 (각 계층의 노드 수와 계층 수는 임의로 할당 됨) DNN (Deep Neural Network)의 구현은 기본적으로 표준 역 전파 알고리즘과 시그 모이 드를 사용하는 차별적으로 훈련 된 모델입니다. 활성화 함수로서의 ReLU 멀티 클래스 분류를위한 출력 레이어는 Softmax를 사용해야합니다.\n",
        "\n",
        "![그림](https://github.com/kk7nc/Text_Classification/raw/master/docs/pic/DNN.png)"
      ]
    },
    {
      "cell_type": "markdown",
      "metadata": {
        "id": "0HM4tCCwejOX",
        "colab_type": "text"
      },
      "source": [
        "### import package"
      ]
    },
    {
      "cell_type": "code",
      "metadata": {
        "id": "__CDSvkZehPn",
        "colab_type": "code",
        "colab": {
          "base_uri": "https://localhost:8080/",
          "height": 34
        },
        "outputId": "c40cabdb-5e03-4b8c-da15-551deb0d506c"
      },
      "source": [
        "from sklearn.datasets import fetch_20newsgroups\n",
        "from keras.layers import  Dropout, Dense\n",
        "from keras.models import Sequential\n",
        "from sklearn.feature_extraction.text import TfidfVectorizer\n",
        "import numpy as np\n",
        "from sklearn import metrics"
      ],
      "execution_count": 1,
      "outputs": [
        {
          "output_type": "stream",
          "text": [
            "Using TensorFlow backend.\n"
          ],
          "name": "stderr"
        }
      ]
    },
    {
      "cell_type": "markdown",
      "metadata": {
        "id": "WB5eZu0LeoEP",
        "colab_type": "text"
      },
      "source": [
        "### convert text to TF-IDF:"
      ]
    },
    {
      "cell_type": "code",
      "metadata": {
        "id": "_szHutRKeqrP",
        "colab_type": "code",
        "colab": {}
      },
      "source": [
        "def TFIDF(X_train, X_test,MAX_NB_WORDS=75000):\n",
        "    vectorizer_x = TfidfVectorizer(max_features=MAX_NB_WORDS)\n",
        "    X_train = vectorizer_x.fit_transform(X_train).toarray()\n",
        "    X_test = vectorizer_x.transform(X_test).toarray()\n",
        "    print(\"tf-idf with\",str(np.array(X_train).shape[1]),\"features\")\n",
        "    return (X_train,X_test)"
      ],
      "execution_count": 0,
      "outputs": []
    },
    {
      "cell_type": "markdown",
      "metadata": {
        "id": "JNKaKy2qeuPo",
        "colab_type": "text"
      },
      "source": [
        "### Build a DNN Model for Text:"
      ]
    },
    {
      "cell_type": "code",
      "metadata": {
        "id": "FQuotiCFev0f",
        "colab_type": "code",
        "colab": {}
      },
      "source": [
        "def Build_Model_DNN_Text(shape, nClasses, dropout=0.5):\n",
        "    \"\"\"\n",
        "    buildModel_DNN_Tex(shape, nClasses,dropout)\n",
        "    Build Deep neural networks Model for text classification\n",
        "    Shape is input feature space\n",
        "    nClasses is number of classes\n",
        "    \"\"\"\n",
        "    model = Sequential()\n",
        "    node = 512 # number of nodes\n",
        "    nLayers = 4 # number of  hidden layer\n",
        "\n",
        "    model.add(Dense(node,input_dim=shape,activation='relu'))\n",
        "    model.add(Dropout(dropout))\n",
        "    for i in range(0,nLayers):\n",
        "        model.add(Dense(node,input_dim=node,activation='relu'))\n",
        "        model.add(Dropout(dropout))\n",
        "    model.add(Dense(nClasses, activation='softmax'))\n",
        "\n",
        "    model.compile(loss='sparse_categorical_crossentropy',\n",
        "                  optimizer='adam',\n",
        "                  metrics=['accuracy'])\n",
        "\n",
        "    return model"
      ],
      "execution_count": 0,
      "outputs": []
    },
    {
      "cell_type": "markdown",
      "metadata": {
        "id": "E57jmy8vexzh",
        "colab_type": "text"
      },
      "source": [
        "### Load text dataset (20newsgroups):"
      ]
    },
    {
      "cell_type": "code",
      "metadata": {
        "id": "7b-Wwt29ez7g",
        "colab_type": "code",
        "colab": {}
      },
      "source": [
        "newsgroups_train = fetch_20newsgroups(subset='train')\n",
        "newsgroups_test = fetch_20newsgroups(subset='test')\n",
        "X_train = newsgroups_train.data\n",
        "X_test = newsgroups_test.data\n",
        "y_train = newsgroups_train.target\n",
        "y_test = newsgroups_test.target"
      ],
      "execution_count": 0,
      "outputs": []
    },
    {
      "cell_type": "markdown",
      "metadata": {
        "id": "dciwQ0H-e2M3",
        "colab_type": "text"
      },
      "source": [
        "### run DNN and see our result:"
      ]
    },
    {
      "cell_type": "code",
      "metadata": {
        "id": "JN3EGM3Be5iN",
        "colab_type": "code",
        "colab": {
          "base_uri": "https://localhost:8080/",
          "height": 1000
        },
        "outputId": "470b6a3a-f68c-4406-c57e-17ef67c02f63"
      },
      "source": [
        "X_train_tfidf,X_test_tfidf = TFIDF(X_train,X_test)\n",
        "model_DNN = Build_Model_DNN_Text(X_train_tfidf.shape[1], 20)\n",
        "model_DNN.fit(X_train_tfidf, y_train,\n",
        "                              validation_data=(X_test_tfidf, y_test),\n",
        "                              epochs=10,\n",
        "                              batch_size=128,\n",
        "                              verbose=2)\n",
        "\n",
        "predicted = model_DNN.predict(X_test_tfidf)\n",
        "\n",
        "print(metrics.classification_report(y_test, predicted.argmax(axis=1)))"
      ],
      "execution_count": 5,
      "outputs": [
        {
          "output_type": "stream",
          "text": [
            "WARNING: Logging before flag parsing goes to stderr.\n",
            "W0815 23:28:44.593965 140600686536576 deprecation_wrapper.py:119] From /usr/local/lib/python3.6/dist-packages/keras/backend/tensorflow_backend.py:74: The name tf.get_default_graph is deprecated. Please use tf.compat.v1.get_default_graph instead.\n",
            "\n",
            "W0815 23:28:44.606236 140600686536576 deprecation_wrapper.py:119] From /usr/local/lib/python3.6/dist-packages/keras/backend/tensorflow_backend.py:517: The name tf.placeholder is deprecated. Please use tf.compat.v1.placeholder instead.\n",
            "\n",
            "W0815 23:28:44.609463 140600686536576 deprecation_wrapper.py:119] From /usr/local/lib/python3.6/dist-packages/keras/backend/tensorflow_backend.py:4138: The name tf.random_uniform is deprecated. Please use tf.random.uniform instead.\n",
            "\n",
            "W0815 23:28:44.625021 140600686536576 deprecation_wrapper.py:119] From /usr/local/lib/python3.6/dist-packages/keras/backend/tensorflow_backend.py:133: The name tf.placeholder_with_default is deprecated. Please use tf.compat.v1.placeholder_with_default instead.\n",
            "\n",
            "W0815 23:28:44.632684 140600686536576 deprecation.py:506] From /usr/local/lib/python3.6/dist-packages/keras/backend/tensorflow_backend.py:3445: calling dropout (from tensorflow.python.ops.nn_ops) with keep_prob is deprecated and will be removed in a future version.\n",
            "Instructions for updating:\n",
            "Please use `rate` instead of `keep_prob`. Rate should be set to `rate = 1 - keep_prob`.\n",
            "W0815 23:28:44.766081 140600686536576 deprecation_wrapper.py:119] From /usr/local/lib/python3.6/dist-packages/keras/optimizers.py:790: The name tf.train.Optimizer is deprecated. Please use tf.compat.v1.train.Optimizer instead.\n",
            "\n"
          ],
          "name": "stderr"
        },
        {
          "output_type": "stream",
          "text": [
            "tf-idf with 75000 features\n"
          ],
          "name": "stdout"
        },
        {
          "output_type": "stream",
          "text": [
            "W0815 23:28:44.785562 140600686536576 deprecation_wrapper.py:119] From /usr/local/lib/python3.6/dist-packages/keras/backend/tensorflow_backend.py:3341: The name tf.log is deprecated. Please use tf.math.log instead.\n",
            "\n",
            "W0815 23:28:44.870919 140600686536576 deprecation.py:323] From /usr/local/lib/python3.6/dist-packages/tensorflow/python/ops/math_grad.py:1250: add_dispatch_support.<locals>.wrapper (from tensorflow.python.ops.array_ops) is deprecated and will be removed in a future version.\n",
            "Instructions for updating:\n",
            "Use tf.where in 2.0, which has the same broadcast rule as np.where\n"
          ],
          "name": "stderr"
        },
        {
          "output_type": "stream",
          "text": [
            "Train on 11314 samples, validate on 7532 samples\n",
            "Epoch 1/10\n",
            " - 16s - loss: 2.7924 - acc: 0.0959 - val_loss: 2.1340 - val_acc: 0.2549\n",
            "Epoch 2/10\n",
            " - 13s - loss: 1.3636 - acc: 0.5205 - val_loss: 0.8794 - val_acc: 0.7258\n",
            "Epoch 3/10\n",
            " - 12s - loss: 0.4748 - acc: 0.8418 - val_loss: 0.7429 - val_acc: 0.8002\n",
            "Epoch 4/10\n",
            " - 12s - loss: 0.1915 - acc: 0.9428 - val_loss: 0.8093 - val_acc: 0.8169\n",
            "Epoch 5/10\n",
            " - 13s - loss: 0.1087 - acc: 0.9676 - val_loss: 0.8334 - val_acc: 0.8209\n",
            "Epoch 6/10\n",
            " - 13s - loss: 0.0693 - acc: 0.9768 - val_loss: 0.8756 - val_acc: 0.8172\n",
            "Epoch 7/10\n",
            " - 12s - loss: 0.0505 - acc: 0.9867 - val_loss: 0.9184 - val_acc: 0.8263\n",
            "Epoch 8/10\n",
            " - 12s - loss: 0.0421 - acc: 0.9888 - val_loss: 0.9778 - val_acc: 0.8176\n",
            "Epoch 9/10\n",
            " - 13s - loss: 0.0448 - acc: 0.9877 - val_loss: 0.9164 - val_acc: 0.8229\n",
            "Epoch 10/10\n",
            " - 12s - loss: 0.0359 - acc: 0.9907 - val_loss: 0.9834 - val_acc: 0.8240\n",
            "              precision    recall  f1-score   support\n",
            "\n",
            "           0       0.77      0.73      0.75       319\n",
            "           1       0.66      0.77      0.71       389\n",
            "           2       0.76      0.70      0.73       394\n",
            "           3       0.63      0.81      0.71       392\n",
            "           4       0.88      0.75      0.81       385\n",
            "           5       0.75      0.75      0.75       395\n",
            "           6       0.86      0.86      0.86       390\n",
            "           7       0.86      0.92      0.89       396\n",
            "           8       0.98      0.93      0.95       398\n",
            "           9       0.94      0.91      0.93       397\n",
            "          10       0.92      0.97      0.94       399\n",
            "          11       0.96      0.88      0.92       396\n",
            "          12       0.82      0.71      0.76       393\n",
            "          13       0.90      0.80      0.84       396\n",
            "          14       0.89      0.90      0.89       394\n",
            "          15       0.81      0.93      0.87       398\n",
            "          16       0.76      0.88      0.82       364\n",
            "          17       0.96      0.84      0.90       376\n",
            "          18       0.71      0.65      0.68       310\n",
            "          19       0.69      0.67      0.68       251\n",
            "\n",
            "    accuracy                           0.82      7532\n",
            "   macro avg       0.83      0.82      0.82      7532\n",
            "weighted avg       0.83      0.82      0.82      7532\n",
            "\n"
          ],
          "name": "stdout"
        }
      ]
    }
  ]
}