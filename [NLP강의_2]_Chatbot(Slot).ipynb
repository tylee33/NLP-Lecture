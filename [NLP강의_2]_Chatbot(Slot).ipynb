{
  "nbformat": 4,
  "nbformat_minor": 0,
  "metadata": {
    "colab": {
      "name": "[NLP강의-2] Chatbot(Slot).ipynb",
      "version": "0.3.2",
      "provenance": [],
      "include_colab_link": true
    },
    "kernelspec": {
      "name": "python3",
      "display_name": "Python 3"
    }
  },
  "cells": [
    {
      "cell_type": "markdown",
      "metadata": {
        "id": "view-in-github",
        "colab_type": "text"
      },
      "source": [
        "<a href=\"https://colab.research.google.com/github/tylee33/NLP-Lecture/blob/master/%5BNLP%EA%B0%95%EC%9D%98_2%5D_Chatbot(Slot).ipynb\" target=\"_parent\"><img src=\"https://colab.research.google.com/assets/colab-badge.svg\" alt=\"Open In Colab\"/></a>"
      ]
    },
    {
      "cell_type": "markdown",
      "metadata": {
        "id": "nvvnvS3qcB5D",
        "colab_type": "text"
      },
      "source": [
        "# 챗봇 만들기(Char+CNN / Bi-LSTM)"
      ]
    },
    {
      "cell_type": "code",
      "metadata": {
        "id": "wEOhxLIWcJqd",
        "colab_type": "code",
        "colab": {}
      },
      "source": [
        "input_data = \"판교에 오늘 피자 주문해줘\" #채팅에서 입력\n",
        "output_data = \"\"\n",
        "#챗봇에서 서버와 주고받을 REST format \n",
        "request = {\n",
        "            \"intent_id\" : \"\",\n",
        "            \"input_data\":input_data, \n",
        "            \"request_type\" : \"text\",\n",
        "            \"story_slot_entity\" : {},\n",
        "            \"output_data\" : output_data\n",
        "          }"
      ],
      "execution_count": 0,
      "outputs": []
    },
    {
      "cell_type": "markdown",
      "metadata": {
        "id": "epkIwsYwdWDS",
        "colab_type": "text"
      },
      "source": [
        "# 기본 Data Set (DB)"
      ]
    },
    {
      "cell_type": "code",
      "metadata": {
        "id": "a8iaLnWUdUjT",
        "colab_type": "code",
        "colab": {}
      },
      "source": [
        "voc_list = []\n",
        "\n",
        "intent_list = {\n",
        "    \"주문\" : [\"주문\",\"배달\"],\n",
        "    \"예약\" : [\"예약\",\"잡아줘\"],\n",
        "    \"정보\" : [\"정보\", \"알려\"]\n",
        "}\n",
        "\n",
        "ner_list = []\n",
        "\n",
        "story_slot_entity = {\"주문\": {\"메뉴\" : None, \"사이즈\" : None, \"음료\" : None},\n",
        "                     \"예약\": {\"장소\" : None, \"날짜\" : None},\n",
        "                     \"정보\": {\"대상\" : None}                    \n",
        "                    }\n",
        "menu_list = ['피자','햄버거','음료']"
      ],
      "execution_count": 0,
      "outputs": []
    },
    {
      "cell_type": "code",
      "metadata": {
        "id": "PhCXJxVgcnE7",
        "colab_type": "code",
        "colab": {
          "base_uri": "https://localhost:8080/",
          "height": 53
        },
        "outputId": "56ada56e-53b2-4354-8804-b15c61e0e908"
      },
      "source": [
        "!pip install konlpy"
      ],
      "execution_count": 3,
      "outputs": [
        {
          "output_type": "stream",
          "text": [
            "Requirement already satisfied: konlpy in /usr/local/lib/python3.6/dist-packages (0.5.1)\n",
            "Requirement already satisfied: JPype1>=0.5.7 in /usr/local/lib/python3.6/dist-packages (from konlpy) (0.7.0)\n"
          ],
          "name": "stdout"
        }
      ]
    },
    {
      "cell_type": "markdown",
      "metadata": {
        "id": "yG6ckoBXcakD",
        "colab_type": "text"
      },
      "source": [
        "# 형태소 분석"
      ]
    },
    {
      "cell_type": "code",
      "metadata": {
        "id": "9ixicr9Zceb8",
        "colab_type": "code",
        "colab": {
          "base_uri": "https://localhost:8080/",
          "height": 53
        },
        "outputId": "fbbdf2f6-c50d-40b3-86bb-547848b17ba8"
      },
      "source": [
        "#형태소 분석\n",
        "from konlpy.tag import Twitter\n",
        " \n",
        "twitter = Twitter()\n",
        "preprocessed = twitter.pos(request.get('input_data'))"
      ],
      "execution_count": 4,
      "outputs": [
        {
          "output_type": "stream",
          "text": [
            "/usr/local/lib/python3.6/dist-packages/konlpy/tag/_okt.py:16: UserWarning: \"Twitter\" has changed to \"Okt\" since KoNLPy v0.4.5.\n",
            "  warn('\"Twitter\" has changed to \"Okt\" since KoNLPy v0.4.5.')\n"
          ],
          "name": "stderr"
        }
      ]
    },
    {
      "cell_type": "code",
      "metadata": {
        "id": "Vs_GirYlcxtL",
        "colab_type": "code",
        "colab": {
          "base_uri": "https://localhost:8080/",
          "height": 35
        },
        "outputId": "27271fcf-5c69-446b-cba4-61ab4ca858f9"
      },
      "source": [
        "print (preprocessed)"
      ],
      "execution_count": 5,
      "outputs": [
        {
          "output_type": "stream",
          "text": [
            "[('판교', 'Noun'), ('에', 'Josa'), ('오늘', 'Noun'), ('피자', 'Noun'), ('주문', 'Noun'), ('해줘', 'Verb')]\n"
          ],
          "name": "stdout"
        }
      ]
    },
    {
      "cell_type": "markdown",
      "metadata": {
        "id": "26MGaNhIc108",
        "colab_type": "text"
      },
      "source": [
        "# Intent 도출"
      ]
    },
    {
      "cell_type": "code",
      "metadata": {
        "id": "VuSzqxw8czhT",
        "colab_type": "code",
        "colab": {}
      },
      "source": [
        "intent_id =\"주문\"\n",
        "slot_value = story_slot_entity.get(\"주문\")"
      ],
      "execution_count": 0,
      "outputs": []
    },
    {
      "cell_type": "markdown",
      "metadata": {
        "id": "wxXm-0IVdgbj",
        "colab_type": "text"
      },
      "source": [
        "# NER 도출"
      ]
    },
    {
      "cell_type": "code",
      "metadata": {
        "id": "OwVYElQtdlzj",
        "colab_type": "code",
        "colab": {}
      },
      "source": [
        "B_loc = '판교'\n",
        "B_date = '오늘'\n",
        "B_menu = '피자'"
      ],
      "execution_count": 0,
      "outputs": []
    },
    {
      "cell_type": "markdown",
      "metadata": {
        "id": "duqrYQwodqE0",
        "colab_type": "text"
      },
      "source": [
        "# Dictionary 기반 Slot 구성"
      ]
    },
    {
      "cell_type": "code",
      "metadata": {
        "id": "C5c5B_-gdq2r",
        "colab_type": "code",
        "colab": {}
      },
      "source": [
        "for pos_tag in preprocessed:\n",
        "    if (pos_tag[1] in ['Noun']): #명사, 영어만 사용\n",
        "        if pos_tag[0] in menu_list:\n",
        "            slot_value[\"메뉴\"] = pos_tag[0]"
      ],
      "execution_count": 0,
      "outputs": []
    },
    {
      "cell_type": "code",
      "metadata": {
        "id": "I8UyDfyCdt7b",
        "colab_type": "code",
        "colab": {
          "base_uri": "https://localhost:8080/",
          "height": 35
        },
        "outputId": "ed9f9ae0-cf24-46cb-fc6d-3c28c0a45571"
      },
      "source": [
        "print (story_slot_entity.get('주문'))"
      ],
      "execution_count": 11,
      "outputs": [
        {
          "output_type": "stream",
          "text": [
            "{'메뉴': '피자', '사이즈': None, '음료': None}\n"
          ],
          "name": "stdout"
        }
      ]
    },
    {
      "cell_type": "markdown",
      "metadata": {
        "id": "K2GpO-n-dyor",
        "colab_type": "text"
      },
      "source": [
        "# 빈 Slot 검색"
      ]
    },
    {
      "cell_type": "code",
      "metadata": {
        "id": "eunaBLuJd2rz",
        "colab_type": "code",
        "colab": {
          "base_uri": "https://localhost:8080/",
          "height": 35
        },
        "outputId": "1d71325b-cb78-49e4-9620-0809fa549fcb"
      },
      "source": [
        "if(None in slot_value.values()): #빈 Slot 출력\n",
        "    key_values = \"\"\n",
        "    for key in slot_value.keys():\n",
        "        if(slot_value[key] is None):\n",
        "            key_values = key_values + key + \",\"\n",
        "    output_data = key_values + '선택해주세요'\n",
        "            \n",
        "print (output_data)"
      ],
      "execution_count": 12,
      "outputs": [
        {
          "output_type": "stream",
          "text": [
            "사이즈,음료,선택해주세요\n"
          ],
          "name": "stdout"
        }
      ]
    },
    {
      "cell_type": "code",
      "metadata": {
        "id": "IqiT9dkGd8Tj",
        "colab_type": "code",
        "colab": {}
      },
      "source": [
        "response = {\n",
        "            \"intent_id\" : \"\",\n",
        "            \"input_data\":\"피자 주문 할께\", \n",
        "            \"request_type\" : \"text\",\n",
        "            \"story_slot_entity\" : {},\n",
        "            \"output_data\" : \"\"\n",
        "          }\n",
        "response[\"output_data\"]= output_data"
      ],
      "execution_count": 0,
      "outputs": []
    },
    {
      "cell_type": "code",
      "metadata": {
        "id": "Askl1nkvd_Iq",
        "colab_type": "code",
        "colab": {
          "base_uri": "https://localhost:8080/",
          "height": 35
        },
        "outputId": "60ead85a-bdd3-4de7-a6a7-33e68c57b6ac"
      },
      "source": [
        "print (response['output_data'])"
      ],
      "execution_count": 14,
      "outputs": [
        {
          "output_type": "stream",
          "text": [
            "사이즈,음료,선택해주세요\n"
          ],
          "name": "stdout"
        }
      ]
    }
  ]
}