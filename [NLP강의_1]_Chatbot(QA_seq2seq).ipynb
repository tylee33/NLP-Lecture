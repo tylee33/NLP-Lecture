{
  "nbformat": 4,
  "nbformat_minor": 0,
  "metadata": {
    "colab": {
      "name": "[NLP강의-1] Chatbot(QA-seq2seq).ipynb",
      "version": "0.3.2",
      "provenance": [],
      "include_colab_link": true
    },
    "kernelspec": {
      "name": "python3",
      "display_name": "Python 3"
    }
  },
  "cells": [
    {
      "cell_type": "markdown",
      "metadata": {
        "id": "view-in-github",
        "colab_type": "text"
      },
      "source": [
        "<a href=\"https://colab.research.google.com/github/tylee33/NLP-Lecture/blob/master/%5BNLP%EA%B0%95%EC%9D%98_1%5D_Chatbot(QA_seq2seq).ipynb\" target=\"_parent\"><img src=\"https://colab.research.google.com/assets/colab-badge.svg\" alt=\"Open In Colab\"/></a>"
      ]
    },
    {
      "cell_type": "markdown",
      "metadata": {
        "id": "ghYgT4THYV2g",
        "colab_type": "text"
      },
      "source": [
        "# Why Chatbot\n",
        "* 앱을 새로 깔 필요가 없음\n",
        "* 앱을 깔필요가 없으니 배울 것도 없음\n",
        "* 편한 UX - 그냥 텍스트 치면됨\n",
        "* 즉각적인 Feedback\n",
        "\n",
        "## Seq2Seq를 활용한 간단한 Q/A 봇을 만들어보자\n",
        "![이미지](http://suriyadeepan.github.io/img/seq2seq/seq2seq2.png)\n",
        "* Python 3.5, Tensorflow 1.1, Konlpy (Twitter),Word2Vec (Gensim), matplotlib (Graph)"
      ]
    },
    {
      "cell_type": "code",
      "metadata": {
        "id": "_w8sJy7FYW7A",
        "colab_type": "code",
        "colab": {}
      },
      "source": [
        "# -*- coding: utf-8 -*-\n",
        "import tensorflow as tf\n",
        "import numpy as np\n",
        "import sys \n",
        "\n",
        "print (sys.version)\n",
        "print (tf.__version__) #1.1이상 가능 "
      ],
      "execution_count": 0,
      "outputs": []
    },
    {
      "cell_type": "markdown",
      "metadata": {
        "id": "FSbc31DTYjAY",
        "colab_type": "text"
      },
      "source": [
        "### seq2seq를 위한 Data 구성\n",
        "* 질의 응답별로 LIST로 구성\n",
        "* operator사용 value값 기준 정렬"
      ]
    },
    {
      "cell_type": "code",
      "metadata": {
        "id": "-Et8EmJwVmT5",
        "colab_type": "code",
        "colab": {}
      },
      "source": [
        "# 질문에 따른 답변 정의\n",
        "train_data = [\n",
        "                ['안녕', '만나서 반가워'],\n",
        "                ['넌누구니', '나는 AI 봇이란다.'],\n",
        "                ['피자 주문 할께', '페파로니 주문해줘'],\n",
        "                ['음료는 멀로', '콜라로 해줘']\n",
        "            ]\n",
        "char_array = []\n",
        "all_char = ''\n",
        "for text in train_data:\n",
        "    all_char = all_char + ''.join(text)\n",
        "char_array = ['P', '[', ']'] + list(set(all_char))  # Padding값을 0으로 주어 weight제외\n",
        "\n",
        "max_input_text = max(len(s[0]) for s in train_data)#입력의 차원 수\n",
        "max_output_text = max(len(s[1]) for s in train_data)#출력의 차원 수\n"
      ],
      "execution_count": 0,
      "outputs": []
    },
    {
      "cell_type": "markdown",
      "metadata": {
        "id": "uYhua-UJYnvc",
        "colab_type": "text"
      },
      "source": [
        "# Vector 구성 (입력된 문장의 글자별 Vector)\n",
        " - 일반적으로 처리단위가 작아질수록 미등록어에서 자유롭고 작은 vector 차원을 유지할 수 있지만\n",
        " - 문장의 길이가 길어지고, 학습이 어려워지는 문제가 있기에 적절한 embedding을 찾아야하는데 \n",
        " - 이부분은 Biz Domain 별 차이가 있음 복잡도나 표현 가능성등을 적절한 균형에서 찾아야함 \n",
        " - 아래 소스는 이해하기 쉽도록 글자단위의 Onehot으로 구성"
      ]
    },
    {
      "cell_type": "code",
      "metadata": {
        "id": "0rk1akqZVs_n",
        "colab_type": "code",
        "outputId": "8c5bbefc-2e76-46d3-810f-47c2a58fca3c",
        "colab": {
          "base_uri": "https://localhost:8080/",
          "height": 73
        }
      },
      "source": [
        "# enumerate 방법 사용 index : value 정렬\n",
        "num_dic = {n: i for i, n in enumerate(char_array)}\n",
        "\n",
        "dic_len = len(num_dic)\n",
        "\n",
        "print (\"# Char List : \" + str(num_dic))\n",
        "print (\"# Char Size : \" + str(dic_len))"
      ],
      "execution_count": 0,
      "outputs": [
        {
          "output_type": "stream",
          "text": [
            "# Char List : {'P': 0, '[': 1, ']': 2, '니': 3, '.': 4, '라': 5, '자': 6, '문': 7, '안': 8, '가': 9, ' ': 10, '페': 11, 'I': 12, '해': 13, '음': 14, 'A': 15, '는': 16, '피': 17, '이': 18, '녕': 19, '할': 20, '파': 21, '란': 22, '주': 23, '멀': 24, '나': 25, '봇': 26, '료': 27, '서': 28, '넌': 29, '워': 30, '줘': 31, '께': 32, '콜': 33, '로': 34, '반': 35, '구': 36, '만': 37, '다': 38, '누': 39}\n",
            "# Char Size : 40\n"
          ],
          "name": "stdout"
        }
      ]
    },
    {
      "cell_type": "markdown",
      "metadata": {
        "id": "HNHXMU72YvbI",
        "colab_type": "text"
      },
      "source": [
        "### One Hot Encodeing\n",
        "* '안녕??'의 정렬하여 1의 값으로 정렬 <br>\n",
        "안 [1, 0, 0, 0, 0, 0, 0, 0, 0, 0] <br>\n",
        "녕 [0, 1, 0, 0, 0, 0, 0, 0, 0, 0] <br>\n",
        "? [0, 0, 1, 0, 0, 0, 0, 0, 0, 0] <br>"
      ]
    },
    {
      "cell_type": "code",
      "metadata": {
        "id": "ezilYSXDWgq_",
        "colab_type": "code",
        "colab": {}
      },
      "source": [
        "def make_train_data(train_data):\n",
        "    input_batch = []\n",
        "    output_batch = []\n",
        "    target_batch = []\n",
        "\n",
        "    for seq in train_data:\n",
        "        # 인코더 셀의 입력값. 입력단어의 글자들을 한글자씩 떼어 배열로 만든다.\n",
        "        input = [num_dic[n] for n in seq[0]+'P' * (max_input_text - len(seq[0]))]# P는 Padding 값\n",
        "        # 디코더 셀의 입력값. 시작을 나타내는 [ 심볼을 맨 앞에 붙여준다. (Seq의 구분)\n",
        "        output = [num_dic[n] for n in ('[' + seq[1] + 'P' * (max_output_text - len(seq[1])))]\n",
        "        # 학습을 위해 비교할 디코더 셀의 출력값. 끝나는 것을 알려주기 위해 마지막에 ] 를 붙인다.\n",
        "        target = [num_dic[n] for n in (seq[1] + 'P' * (max_output_text - len(seq[1])) + ']' )]\n",
        "        input_batch.append(np.eye(dic_len)[input])\n",
        "        output_batch.append(np.eye(dic_len)[output])\n",
        "        target_batch.append(target)\n",
        "    return input_batch, output_batch, target_batch"
      ],
      "execution_count": 0,
      "outputs": []
    },
    {
      "cell_type": "markdown",
      "metadata": {
        "id": "M3ECF7mTY0RB",
        "colab_type": "text"
      },
      "source": [
        "### 모델 저장을 위한 함수\n",
        "* 현재폴더의 model폴더를 만들어 모델을 저장한다 \n",
        "* 모델이 존재할 경우 삭제하고 새로 만든다"
      ]
    },
    {
      "cell_type": "code",
      "metadata": {
        "id": "KGqXhxkcWlX_",
        "colab_type": "code",
        "colab": {}
      },
      "source": [
        "file_path = './model'\n",
        "def model_file(file_path, flag):\n",
        "    if(flag):\n",
        "        import os\n",
        "        saver = tf.train.Saver(tf.global_variables())\n",
        "\n",
        "        if(not os.path.exists(file_path)):\n",
        "            os.makedirs(file_path)\n",
        "        saver.save(sess, ''.join(file_path + \"/.model\"))\n",
        "        print(\"Model Saved\")\n",
        "    else:\n",
        "        import shutil\n",
        "        try:\n",
        "            shutil.rmtree(file_path)\n",
        "            print(\"Model Deleted\")\n",
        "        except OSError as e:\n",
        "            if e.errno == 2:\n",
        "                # 파일이나 디렉토리가 없음!\n",
        "                print ('No such file or directory to remove')\n",
        "                pass\n",
        "            else:\n",
        "                raise"
      ],
      "execution_count": 0,
      "outputs": []
    },
    {
      "cell_type": "markdown",
      "metadata": {
        "id": "Imdg63Q2Y4Uo",
        "colab_type": "text"
      },
      "source": [
        "### Tensorflow Graph 생성\n",
        "* seq2seq모델의 Graph 생성\n",
        "* 동일한 크기의 encoder과 decoder의 크기로 학습"
      ]
    },
    {
      "cell_type": "code",
      "metadata": {
        "id": "e8rPTBciWpDX",
        "colab_type": "code",
        "outputId": "4560e8bf-a886-4d62-ff6e-a6cae110af13",
        "colab": {
          "base_uri": "https://localhost:8080/",
          "height": 469
        }
      },
      "source": [
        "# 옵션 설정\n",
        "learning_rate = 0.01\n",
        "n_hidden = 128\n",
        "total_epoch = 100\n",
        "# one hot 위한 사이즈\n",
        "n_class = n_input = dic_len\n",
        "\n",
        "# 그래프 초기화 \n",
        "tf.reset_default_graph()\n",
        "# Seq2Seq 모델은 인코더의 입력과 디코더의 입력의 형식이 같다.\n",
        "enc_input = tf.placeholder(tf.float32, [None, None, n_input])\n",
        "dec_input = tf.placeholder(tf.float32, [None, None, n_input])\n",
        "targets = tf.placeholder(tf.int64, [None, None])\n",
        "\n",
        "# 인코더\n",
        "with tf.variable_scope(\"encoder\"):\n",
        "    enc_cell = tf.contrib.rnn.BasicLSTMCell(n_hidden)\n",
        "    enc_cell = tf.contrib.rnn.DropoutWrapper(enc_cell, output_keep_prob=0.5)\n",
        "    outputs, enc_states = tf.nn.dynamic_rnn(enc_cell, enc_input,\n",
        "                                            dtype=tf.float32)\n",
        "\n",
        "# 디코더\n",
        "with tf.variable_scope(\"decoder\"):\n",
        "    dec_cell = tf.contrib.rnn.BasicLSTMCell(n_hidden)\n",
        "    dec_cell = tf.contrib.rnn.DropoutWrapper(dec_cell, output_keep_prob=0.5)\n",
        "    outputs, dec_states = tf.nn.dynamic_rnn(dec_cell, dec_input,\n",
        "                                            initial_state=enc_states,\n",
        "                                            dtype=tf.float32)\n",
        "\n",
        "model = tf.layers.dense(outputs, n_class, activation=None)\n",
        "\n",
        "#onehot로 sparse사용 \n",
        "cross_entropy = tf.nn.sparse_softmax_cross_entropy_with_logits(logits=model, labels=targets)\n",
        "cost = tf.reduce_mean(cross_entropy)\n",
        "optimizer = tf.train.AdamOptimizer(learning_rate).minimize(cost)\n",
        "\n",
        "sess = tf.Session()\n",
        "sess.run(tf.global_variables_initializer())\n",
        "input_batch, output_batch, target_batch = make_train_data(train_data)\n"
      ],
      "execution_count": 0,
      "outputs": [
        {
          "output_type": "stream",
          "text": [
            "WARNING: Logging before flag parsing goes to stderr.\n",
            "W0815 03:38:15.748034 139693020694400 lazy_loader.py:50] \n",
            "The TensorFlow contrib module will not be included in TensorFlow 2.0.\n",
            "For more information, please see:\n",
            "  * https://github.com/tensorflow/community/blob/master/rfcs/20180907-contrib-sunset.md\n",
            "  * https://github.com/tensorflow/addons\n",
            "  * https://github.com/tensorflow/io (for I/O related ops)\n",
            "If you depend on functionality not listed there, please file an issue.\n",
            "\n",
            "W0815 03:38:15.749560 139693020694400 deprecation.py:323] From <ipython-input-13-eca112ba1a89>:16: BasicLSTMCell.__init__ (from tensorflow.python.ops.rnn_cell_impl) is deprecated and will be removed in a future version.\n",
            "Instructions for updating:\n",
            "This class is equivalent as tf.keras.layers.LSTMCell, and will be replaced by that in Tensorflow 2.0.\n",
            "W0815 03:38:15.758644 139693020694400 deprecation.py:323] From <ipython-input-13-eca112ba1a89>:19: dynamic_rnn (from tensorflow.python.ops.rnn) is deprecated and will be removed in a future version.\n",
            "Instructions for updating:\n",
            "Please use `keras.layers.RNN(cell)`, which is equivalent to this API\n",
            "W0815 03:38:15.879762 139693020694400 deprecation.py:506] From /usr/local/lib/python3.6/dist-packages/tensorflow/python/ops/init_ops.py:1251: calling VarianceScaling.__init__ (from tensorflow.python.ops.init_ops) with dtype is deprecated and will be removed in a future version.\n",
            "Instructions for updating:\n",
            "Call initializer instance with the dtype argument instead of passing it to the constructor\n",
            "W0815 03:38:15.893131 139693020694400 deprecation.py:506] From /usr/local/lib/python3.6/dist-packages/tensorflow/python/ops/rnn_cell_impl.py:738: calling Zeros.__init__ (from tensorflow.python.ops.init_ops) with dtype is deprecated and will be removed in a future version.\n",
            "Instructions for updating:\n",
            "Call initializer instance with the dtype argument instead of passing it to the constructor\n",
            "W0815 03:38:16.593314 139693020694400 deprecation.py:323] From <ipython-input-13-eca112ba1a89>:29: dense (from tensorflow.python.layers.core) is deprecated and will be removed in a future version.\n",
            "Instructions for updating:\n",
            "Use keras.layers.dense instead.\n"
          ],
          "name": "stderr"
        }
      ]
    },
    {
      "cell_type": "markdown",
      "metadata": {
        "id": "bv_B6NFjY9nn",
        "colab_type": "text"
      },
      "source": [
        "### 학습결과 출력\n",
        "* matplotlib 활용 학습 결과 출력"
      ]
    },
    {
      "cell_type": "code",
      "metadata": {
        "id": "rVaUUDCNWuIX",
        "colab_type": "code",
        "outputId": "bcecf2e5-7041-407b-db81-35fc44921592",
        "colab": {
          "base_uri": "https://localhost:8080/",
          "height": 269
        }
      },
      "source": [
        "import matplotlib.pyplot as plt\n",
        "\n",
        "def display_train():\n",
        "    plot_X = []\n",
        "    plot_Y = []\n",
        "    for epoch in range(total_epoch):\n",
        "        _, loss = sess.run([optimizer, cost],\n",
        "                           feed_dict={enc_input: input_batch,\n",
        "                                      dec_input: output_batch,\n",
        "                                      targets: target_batch})\n",
        "        plot_X.append(epoch + 1)\n",
        "        plot_Y.append(loss)\n",
        "    # Graphic display\n",
        "    plt.plot(plot_X, plot_Y, label='cost')\n",
        "    plt.show()\n",
        "\n",
        "display_train()"
      ],
      "execution_count": 0,
      "outputs": [
        {
          "output_type": "display_data",
          "data": {
            "image/png": "[encoded data removed]",
            "text/plain": [
              "<Figure size 432x288 with 1 Axes>"
            ]
          },
          "metadata": {
            "tags": []
          }
        }
      ]
    },
    {
      "cell_type": "markdown",
      "metadata": {
        "id": "vO0PzztJZB2i",
        "colab_type": "text"
      },
      "source": [
        "### 예측 수행"
      ]
    },
    {
      "cell_type": "code",
      "metadata": {
        "id": "znouGXC3X9K3",
        "colab_type": "code",
        "outputId": "be4a2f5e-31f6-4343-c37a-3ebfe53f78ff",
        "colab": {
          "base_uri": "https://localhost:8080/",
          "height": 161
        }
      },
      "source": [
        "# 최적화가 끝난 뒤, 변수를 저장합니다.\n",
        "model_file(file_path, True)\n",
        "\n",
        "# 단어를 입력받아 번역 단어를 예측하고 디코딩하는 함수\n",
        "def predict(word):\n",
        "    input_batch, output_batch, target_batch = make_train_data([word])\n",
        "    # 결과가 [batch size, time step, input] 으로 나오기 때문에,\n",
        "    # 2번째 차원인 input 차원을 argmax 로 취해 가장 확률이 높은 글자를 예측 값으로 만든다.\n",
        "    # http://pythonkim.tistory.com/73\n",
        "    prediction = tf.argmax(model, 2)\n",
        "    result = sess.run(prediction,\n",
        "                      feed_dict={enc_input: input_batch,\n",
        "                                 dec_input: output_batch,\n",
        "                                 targets: target_batch})\n",
        "    # 결과 값인 숫자의 인덱스에 해당하는 글자를 가져와 글자 배열을 만든다.\n",
        "    decoded = [char_array[i] for i in result[0]]\n",
        "        \n",
        "    if 'P' in decoded:\n",
        "        end = decoded.index('P')\n",
        "        decoded = decoded[:end]\n",
        "    elif ']' in decoded:\n",
        "        end = decoded.index(']')\n",
        "        decoded = decoded[:end] \n",
        "    return decoded\n",
        "\n",
        "print (\"Q: 넌누구니\")\n",
        "print(\"A: \" + ''.join(predict(['넌누구니',''])))\n",
        "print (\"Q: 피자 주문 할께\")\n",
        "print(\"A: \" + ''.join(predict(['피자 주문 할께',''])))\n",
        "print (\"Q: 음료는 멀로\")\n",
        "print(\"A: \" + ''.join(predict(['음료는 멀로',''])))\n",
        "\n",
        "model_file(file_path, False)"
      ],
      "execution_count": 0,
      "outputs": [
        {
          "output_type": "stream",
          "text": [
            "Model Saved\n",
            "Q: 넌누구니\n",
            "A: 나는 AI 봇란란다.\n",
            "Q: 피자 주문 할께\n",
            "A: 페파로니 주문해줘\n",
            "Q: 음료는 멀로\n",
            "A: 콜라로 해줘\n",
            "Model Deleted\n"
          ],
          "name": "stdout"
        }
      ]
    }
  ]
}